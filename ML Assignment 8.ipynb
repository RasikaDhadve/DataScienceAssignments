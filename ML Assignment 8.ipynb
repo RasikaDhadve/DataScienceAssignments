{
  "metadata": {
    "language_info": {
      "name": ""
    },
    "kernelspec": {
      "name": "python",
      "display_name": "Python (Pyodide)",
      "language": "python"
    }
  },
  "nbformat_minor": 4,
  "nbformat": 4,
  "cells": [
    {
      "cell_type": "code",
      "source": "1. What exactly is a feature? Give an example to illustrate your point.\nFeatures are the basic building blocks of datasets. The quality of the features in your dataset has a major impact on the quality of the insights you will gain when you use that dataset for machine learning.\nAdditionally, different business problems within the same industry do not necessarily require the same features, which is why it is important to have a strong understanding of the business goals of your data science project.\nIn machine learning and pattern recognition, a feature is an individual measurable property or characteristic of a phenomenon. Choosing informative, discriminating and independent features is a crucial element of effective algorithms in pattern recognition, classification and regression.\n",
      "metadata": {},
      "execution_count": null,
      "outputs": []
    },
    {
      "cell_type": "code",
      "source": "2. What are the various circumstances in which feature construction is required?\nThe features in your data will directly influence the predictive models you use and the results you can achieve. Our results are dependent on many inter-dependent properties. We need great features that describe the structures inherent in your data. Better features means flexibility. The process of generating new variables (features) based on already existing variables is known as feature construction.\nFeature Construction is a useful process as it can add more information and give more insights of the data we are dealing with. It is done by transforming the numerical features into categorical features which is done while performing Binning. Also, feature construction is done by decomposing variables so that these new variables can be used in various machine learning algorithms such as the creation of Dummy Variables by performing Encoding. Other ways of constructing include deriving features from the pre-existing features and coming up with more meaningful features.\n",
      "metadata": {},
      "execution_count": null,
      "outputs": []
    },
    {
      "cell_type": "code",
      "source": "3. Describe how nominal variables are encoded.\nNominal data is made of discrete values with no numerical relationship between the different categories — mean and median are meaningless. Animal species is one example. For example, pig is not higher than bird and lower than fish. Ordinal or Label Encoding can be used to transform non-numerical labels into numerical labels (or nominal categorical variables). Numerical labels are always between 1 and the number of classes. The labels chosen for the categories have no relationship. So categories that have some ties or are close to each other lose such information after encoding. The first unique value in your column becomes 1, the second becomes 2, the third becomes 3, and so on.\n",
      "metadata": {},
      "execution_count": null,
      "outputs": []
    },
    {
      "cell_type": "code",
      "source": "4. Describe how numeric features are converted to categorical features.\nNumeric Features can be converted to Categorical Features using Binning. Discretization: It is the process of transforming continuous variables into categorical variables by creating a set of intervals, which are contiguous, that span over the range of the variable’s values. It is also known as “Binning”, where the bin is an analogous name for an interval.\nBenefits of this method are:\nHandles the Outliers in a better way.\nImproves the value spread.\nMinimize the effects of small observation errors.\nTechniques to Encode Numerical Columns:\n(a) Equal width binning: It is also known as “Uniform Binning” since the width of all the intervals is the same. The algorithm divides the data into N intervals of equal size. The width of intervals is:\nw=(max-min)/N\nTherefore, the interval boundaries are:[min+w], [min+2w], [min+3w],..., [min+(N-1)w] where, min and max are the minimum and maximum value from the data respectively. This technique does not change the spread of the data but does handle the outliers.\n(b) Equal frequency binning: It is also known as “Quantile Binning”. The algorithm divides the data into N groups where each group contains approximately the same number of values.\nConsider, we want 10 bins, that is each interval contains 10% of the total observations. Here the width of the interval need not necessarily be equal. Handles outliers better than the previous method and makes the value spread approximately uniform (each interval contains almost the same number of values).\n(c) K-means binning: This technique uses the clustering algorithm namely” K-Means Algorithm”. This technique is mostly used when our data is in the form of clusters.\n",
      "metadata": {},
      "execution_count": null,
      "outputs": []
    },
    {
      "cell_type": "code",
      "source": "5. Describe the feature selection wrapper approach. State the advantages and disadvantages of this approach?\nWrapper methods measure the “usefulness” of features based on the classifier performance. In contrast, the filter methods pick up the intrinsic properties of the features (i.e., the “relevance” of the features) measured via univariate statistics instead of cross-validation performance.\nThe wrapper classification algorithms with joint dimensionality reduction and classification can also be used but these methods have high computation cost, lower discriminative power. Moreover, these methods depend on the efficient selection of classifiers for obtaining high accuracy.\nMost commonly used techniques under wrapper methods are:\n1.Forward selection: In forward selection, we start with a null model and then start fitting the model with each individual feature one at a time and select the feature with the minimum p-value. Now fit a model with two features by trying combinations of the earlier selected feature with all other remaining features. Again select the feature with the minimum p-value. Now fit a model with three features by trying combinations of two previously selected features with other remaining features. Repeat this process until we have a set of selected features with a p-value of individual features less than the significance level.\n2.Backward elimination: In backward elimination, we start with the full model (including all the independent variables) and then remove the insignificant feature with the highest p-value(> significance level). This process repeats again and again until we have the final set of significant features\n3.Bi-directional elimination(Stepwise Selection): It is similar to forward selection but the difference is while adding a new feature it also checks the significance of already added features and if it finds any of the already selected features insignificant then it simply removes that particular feature through backward elimination. Hence, It is a combination of forward selection and backward elimination.\n",
      "metadata": {},
      "execution_count": null,
      "outputs": []
    },
    {
      "cell_type": "code",
      "source": "6. When is a feature considered irrelevant? What can be said to quantify it?\nFeatures are considered relevant if they are either strongly or weakly relevant, and are considered irrelevant otherwise.\nIrrelevant features can never contribute to prediction accuracy, by definition. Also to quantify it we need to first check the list of features, There are three types of feature selection:\nWrapper methods (forward, backward, and stepwise selection)\nFilter methods (ANOVA, Pearson correlation, variance thresholding)\nEmbedded methods (Lasso, Ridge, Decision Tree).\np-value greater than 0.05 means that the feature is insignificant.\n",
      "metadata": {},
      "execution_count": null,
      "outputs": []
    },
    {
      "cell_type": "code",
      "source": "7. When is a function considered redundant? What criteria are used to identify features that could be redundant?\nIf two features {X1, X2} are highly correlated, then the two features become redundant features since they have same information in terms of correlation measure. In other words, the correlation measure provides statistical association between any given a pair of features.\nMinimum redundancy feature selection is an algorithm frequently used in a method to accurately identify characteristics of genes and phenotypes\n",
      "metadata": {},
      "execution_count": null,
      "outputs": []
    },
    {
      "cell_type": "code",
      "source": "8. What are the various distance measurements used to determine feature similarity?\nFour of the most commonly used distance measures in machine learning are as follows:\nHamming Distance: Hamming distance calculates the distance between two binary vectors, also referred to as binary strings or bitstrings for short.\nEuclidean Distance: Calculates the distance between two real-valued vectors.\nManhattan Distance: Also called the Taxicab distance or the City Block distance, calculates the distance between two real-valued vectors.\nMinkowski Distance: Minkowski distance calculates the distance between two real-valued vectors. It is a generalization of the Euclidean and Manhattan distance measures and adds a parameter, called the “order” or “p“, that allows different distance measures to be calculated.\n",
      "metadata": {},
      "execution_count": null,
      "outputs": []
    },
    {
      "cell_type": "code",
      "source": "9. State difference between Euclidean and Manhattan distances?\nEuclidean & Hamming distances are used to measure similarity or dissimilarity between two sequences. Euclidean distance is extensively applied in analysis of convolutional codes and Trellis codes.\nEuclidean distance is the shortest path between source and destination which is a straight line, but Manhattan distance is sum of all the real distances between source(s) and destination(d) and each distance are always the straight lines\n",
      "metadata": {},
      "execution_count": null,
      "outputs": []
    },
    {
      "cell_type": "code",
      "source": "10. Distinguish between feature transformation and feature selection.\nFeature selection is for filtering irrelevant or redundant features from your dataset. The key difference between feature selection and extraction is that feature selection keeps a subset of the original features while feature extraction creates brand new ones.\nFeature selection is the process of reducing the number of input variables when developing a predictive model. It is desirable to reduce the number of input variables to both reduce the computational cost of modelling and, in some cases, to improve the performance of the model.\nFeature Transformation is a technique by which we can boost our model performance. Feature transformation is a mathematical transformation in which we apply a mathematical formula to a particular column(feature) and transform the values which are useful for our further analysis. It is also known as Feature Engineering, which is creating new features from existing features that may help in improving the model performance. It refers to the family of algorithms that create new features using the existing features. These new features may not have the same interpretation as the original features, but they may have more explanatory power in a different space rather than in the original space. This can also be used for Feature Reduction. It can be done in many ways, by linear combinations of original features or by using non-linear functions. It helps machine learning algorithms to converge faster.\n\n",
      "metadata": {},
      "execution_count": null,
      "outputs": []
    },
    {
      "cell_type": "code",
      "source": "11. Make brief notes on any two of the following:\n          1.SVD (Standard Variable Diameter Diameter)\n          2. Collection of features using a hybrid approach\n          3. The width of the silhouette\n          4. Receiver operating characteristic curve\n\n#Collection of features using a hybrid approach:\nCollecting features using a hybrid approach in the context of machine learning typically involves combining multiple methods or sources to generate a more comprehensive set of features for training a model. The goal is to leverage the strengths of different feature generation techniques to enhance the model's performance. Here's how a hybrid approach to feature collection might work:\n1. Feature Extraction from Raw Data:\n   This could involve using techniques like:\n   - Statistical Features: Calculating statistical measures like mean, median, standard deviation, etc., from raw data.\n   - Time-Domain Features: Extracting information from the time domain, like autocorrelation, entropy, etc.\n   - Frequency-Domain Features: Applying techniques from signal processing, such as Fourier transforms, to analyze frequency components.\n   - Domain-Specific Features: For example, in image analysis, extracting textures, edges, or other domain-specific attributes.\n2. Feature Selection:\n   After extracting an initial set of features, use feature selection techniques to identify the most relevant ones. Methods could include:\n   - Filter Methods: Using statistical metrics like correlation or mutual information to select features.\n   - Wrapper Methods: Iteratively evaluating subsets of features using a model's performance as a criterion.\n   - Embedded Methods: Incorporating feature selection into the model training process itself (e.g., LASSO for linear regression).\n3. Feature Generation from External Data:\n   Incorporate external data sources or domain knowledge to create new features. This could involve:\n   - Textual Data: Extracting features from text using natural language processing techniques.\n   - Geographical Data: Incorporating geographical information or maps to generate location-based features.\n   - Temporal Data: Creating features that capture temporal patterns, trends, or seasonality.\n4. Feature Transformation:\n   Apply techniques to transform the existing features into a more suitable form:\n   - Normalization: Scaling features to have similar ranges.\n   - Dimensionality Reduction: Techniques like Principal Component Analysis (PCA) to reduce the number of dimensions while preserving information.\n5. Domain-Specific Feature Extraction:\n   Depending on the problem domain, specialized feature extraction methods might be used. For example:\n   - In computer vision, using a combination of handcrafted features and deep learning-based features.\n   - In audio analysis, combining spectrogram features with deep learning-based embeddings.\n6. Ensemble of Feature Sets:\n   Create an ensemble of different feature sets, each derived from a different method. These sets can then be used as input to the model, and the model can learn to weigh the importance of each feature set.\n     \n#Receiver operating characteristic curve\n\nThe Receiver Operating Characteristic (ROC) curve is a graphical representation used to assess the performance of binary classification models, particularly in machine learning and statistics. It illustrates the trade-off between the true positive rate (sensitivity or recall) and the false positive rate as the discrimination threshold of the model varies.\nHere's how the ROC curve is constructed:\n1. True Positive Rate (Sensitivity/Recall):\n   The true positive rate is the ratio of true positive predictions (correctly predicted positive instances) to the total number of actual positive instances. It is calculated as:\n\n   True Positive Rate = TP / (TP + FN)\n\n2. False Positive Rate:\n   The false positive rate is the ratio of false positive predictions (negative instances incorrectly predicted as positive) to the total number of actual negative instances. It is calculated as:\n   \n   False Positive Rate = FP / (FP + TN)\n\n3. Varying Thresholds:\n   In a binary classification model, the classification threshold determines whether an instance is predicted as positive or negative. By varying this threshold, you can compute different pairs of true positive rates and false positive rates, creating different points on the ROC curve.\n\n4. Plotting the Curve:\n   Each point on the ROC curve corresponds to a specific threshold. As the threshold changes, the true positive rate and false positive rate change, leading to a trajectory on the ROC plane. The curve starts at the point (0, 0), representing the threshold where all instances are predicted as negative, and ends at the point (1, 1), representing the threshold where all instances are predicted as positive.\n\n5. Ideal ROC Curve:\n   The ideal ROC curve hugs the top-left corner of the plot, indicating high true positive rates and low false positive rates across various thresholds. A random classifier (chance level) produces a diagonal line from the bottom-left corner to the top-right corner.\n\n6. Area Under the Curve (AUC):\n   The AUC is a quantitative measure of the performance of a classification model. It represents the area under the ROC curve. AUC ranges between 0 and 1, with higher values indicating better model performance. An AUC of 0.5 corresponds to a random classifier, while an AUC of 1 indicates a perfect classifier.\n",
      "metadata": {
        "trusted": true
      },
      "execution_count": null,
      "outputs": []
    },
    {
      "cell_type": "code",
      "source": "",
      "metadata": {},
      "execution_count": null,
      "outputs": []
    }
  ]
}